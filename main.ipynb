{
 "cells": [
  {
   "attachments": {},
   "cell_type": "markdown",
   "metadata": {},
   "source": [
    "DSL winter project - Riccardo Zanchetta, Valerio Mastrianni - s313344, s308781 - s313344@studenti.polito.it, s308781@studenti.polito.it"
   ]
  },
  {
   "attachments": {},
   "cell_type": "markdown",
   "metadata": {},
   "source": [
    "import"
   ]
  },
  {
   "cell_type": "code",
   "execution_count": 1,
   "outputs": []
   "metadata": {},
   "outputs": [
    {
     "name": "stderr",
     "output_type": "stream",
     "text": [
      "c:\\Python38\\lib\\site-packages\\tqdm\\auto.py:22: TqdmWarning: IProgress not found. Please update jupyter and ipywidgets. See https://ipywidgets.readthedocs.io/en/stable/user_install.html\n",
      "  from .autonotebook import tqdm as notebook_tqdm\n"
     ]
    }
   ],
   "source": [
    "import numpy as np\n",
    "import pandas as pd\n",
    "import matplotlib.pyplot as plt\n",
    "from scipy.io import wavfile\n",
    "import scipy.io\n",
    "from os.path import dirname, join as pjoin\n",
    "import os\n",
    "import librosa\n",
    "import librosa.display\n",
    "from scipy.io import wavfile\n",
    "import noisereduce as nr\n",
    "from sklearn import preprocessing\n",
    "from scipy.io.wavfile import read\n",
    "from python_speech_features import mfcc\n",
    "from sklearn.model_selection import train_test_split\n",
    "from sklearn.ensemble import RandomForestClassifier\n",
    "from sklearn.metrics import accuracy_score\n",
    "import soundfile\n",
    "import numpy as np\n",
    "import librosa\n",
    "import glob\n",
    "import os\n",
    "import pickle\n",
    "from sklearn.model_selection import train_test_split\n",
    "from sklearn.metrics import accuracy_score\n",
    "from sklearn.model_selection import RandomizedSearchCV\n",
    "from sklearn.svm import SVC\n",
    "import librosa.display\n",
    "import cv2"
   ]
  },
  {
   "attachments": {},
   "cell_type": "markdown",
   "metadata": {},
   "source": [
    "Joining ot the two dataframes"
   ]
  },
  {
   "cell_type": "code",
   "execution_count": 2,
   "metadata": {},
   "outputs": [
    {
     "data": {
      "text/html": [
       "<div>\n",
       "<style scoped>\n",
       "    .dataframe tbody tr th:only-of-type {\n",
       "        vertical-align: middle;\n",
       "    }\n",
       "\n",
       "    .dataframe tbody tr th {\n",
       "        vertical-align: top;\n",
       "    }\n",
       "\n",
       "    .dataframe thead th {\n",
       "        text-align: right;\n",
       "    }\n",
       "</style>\n",
       "<table border=\"1\" class=\"dataframe\">\n",
       "  <thead>\n",
       "    <tr style=\"text-align: right;\">\n",
       "      <th></th>\n",
       "      <th>Id</th>\n",
       "      <th>path</th>\n",
       "      <th>speakerId</th>\n",
       "      <th>action</th>\n",
       "      <th>object</th>\n",
       "      <th>Self-reported fluency level</th>\n",
       "      <th>First Language spoken</th>\n",
       "      <th>Current language used for work/school</th>\n",
       "      <th>gender</th>\n",
       "      <th>ageRange</th>\n",
       "    </tr>\n",
       "  </thead>\n",
       "  <tbody>\n",
       "    <tr>\n",
       "      <th>0</th>\n",
       "      <td>0</td>\n",
       "      <td>dsl_data/audio/speakers/2BqVo8kVB2Skwgyb/0a312...</td>\n",
       "      <td>2BqVo8kVB2Skwgyb</td>\n",
       "      <td>change language</td>\n",
       "      <td>none</td>\n",
       "      <td>advanced</td>\n",
       "      <td>English (United States)</td>\n",
       "      <td>English (United States)</td>\n",
       "      <td>female</td>\n",
       "      <td>22-40</td>\n",
       "    </tr>\n",
       "  </tbody>\n",
       "</table>\n",
       "</div>"
      ],
      "text/plain": [
       "   Id                                               path         speakerId  \\\n",
       "0   0  dsl_data/audio/speakers/2BqVo8kVB2Skwgyb/0a312...  2BqVo8kVB2Skwgyb   \n",
       "\n",
       "            action object Self-reported fluency level   \\\n",
       "0  change language   none                     advanced   \n",
       "\n",
       "     First Language spoken Current language used for work/school  gender  \\\n",
       "0  English (United States)               English (United States)  female   \n",
       "\n",
       "  ageRange  \n",
       "0    22-40  "
      ]
     },
     "execution_count": 2,
     "metadata": {},
     "output_type": "execute_result"
    }
   ],
   "source": [
    "df = pd.read_csv('C:/Users/Valerio/Desktop/PoliTO/DATA SCIENCE AND ENGINEERING/DSL/winter_exam/dsl_data/development.csv')\n",
    "df_eval = pd.read_csv('C:/Users/Valerio/Desktop/PoliTO/DATA SCIENCE AND ENGINEERING/DSL/winter_exam/dsl_data/evaluation.csv')\n",
    "\n",
    "joined_df = pd.concat((df, df_eval), ignore_index=True)\n",
    "joined_df.head(1)"
   ]
  },
  {
   "attachments": {},
   "cell_type": "markdown",
   "metadata": {},
   "source": [
    "Audio preprocessing"
   ]
  },
  {
   "cell_type": "code",
   "execution_count": 3,
   "metadata": {},
   "outputs": [],
   "source": [
    "data_eval = []\n",
    "list_len_eval=[]\n",
    "sample_rate_eval = []\n",
    "for i in joined_df['path'].values:\n",
    "    audio = scipy.io.wavfile.read(\"C:/Users/Valerio/Desktop/PoliTO/DATA SCIENCE AND ENGINEERING/DSL/winter_exam/\"+i, mmap=False)\n",
    "    data_eval.append(audio[1])\n",
    "    length = len(audio[1]) / audio[0]\n",
    "    list_len_eval.append(length)\n",
    "    sample_rate_eval.append(audio[0])\n",
    "\n",
    "joined_df[\"audio_signal\"] = data_eval\n",
    "joined_df[\"audio_len\"] = list_len_eval\n",
    "joined_df[\"sample_rate\"]= sample_rate_eval\n",
    "joined_df.head(2)\n",
    "\n",
    "audio_processed_eval=[]\n",
    "\n",
    "for i in joined_df['path']:\n",
    "    audiofile, sr = (librosa.load(\"C:/Users/Valerio/Desktop/PoliTO/DATA SCIENCE AND ENGINEERING/DSL/winter_exam/\"+i))\n",
    "    audiofile = nr.reduce_noise(audiofile, sr, n_jobs =-1)\n",
    "    audiofile, _ = librosa.effects.trim(audiofile, top_db = 20)\n",
    "    audiofile = librosa.effects.preemphasis(audiofile)\n",
    "    audio_processed_eval.append(audiofile)\n",
    "\n",
    "joined_df['audio_processed'] = audio_processed_eval"
   ]
  },
  {
   "cell_type": "code",
   "execution_count": 4,
   "metadata": {},
   "outputs": [
    {
     "data": {
      "text/html": [
       "<div>\n",
       "<style scoped>\n",
       "    .dataframe tbody tr th:only-of-type {\n",
       "        vertical-align: middle;\n",
       "    }\n",
       "\n",
       "    .dataframe tbody tr th {\n",
       "        vertical-align: top;\n",
       "    }\n",
       "\n",
       "    .dataframe thead th {\n",
       "        text-align: right;\n",
       "    }\n",
       "</style>\n",
       "<table border=\"1\" class=\"dataframe\">\n",
       "  <thead>\n",
       "    <tr style=\"text-align: right;\">\n",
       "      <th></th>\n",
       "      <th>Id</th>\n",
       "      <th>path</th>\n",
       "      <th>speakerId</th>\n",
       "      <th>action</th>\n",
       "      <th>object</th>\n",
       "      <th>Self-reported fluency level</th>\n",
       "      <th>First Language spoken</th>\n",
       "      <th>Current language used for work/school</th>\n",
       "      <th>gender</th>\n",
       "      <th>ageRange</th>\n",
       "      <th>audio_signal</th>\n",
       "      <th>audio_len</th>\n",
       "      <th>sample_rate</th>\n",
       "      <th>audio_processed</th>\n",
       "    </tr>\n",
       "  </thead>\n",
       "  <tbody>\n",
       "    <tr>\n",
       "      <th>0</th>\n",
       "      <td>0</td>\n",
       "      <td>dsl_data/audio/speakers/2BqVo8kVB2Skwgyb/0a312...</td>\n",
       "      <td>2BqVo8kVB2Skwgyb</td>\n",
       "      <td>change language</td>\n",
       "      <td>none</td>\n",
       "      <td>advanced</td>\n",
       "      <td>English (United States)</td>\n",
       "      <td>English (United States)</td>\n",
       "      <td>female</td>\n",
       "      <td>22-40</td>\n",
       "      <td>[0, 0, 0, 0, 0, 0, 0, 0, 0, 0, 0, 0, 0, 0, 0, ...</td>\n",
       "      <td>1.857625</td>\n",
       "      <td>16000</td>\n",
       "      <td>[-0.001121952, 0.00034271364, 0.00046548995, -...</td>\n",
       "    </tr>\n",
       "    <tr>\n",
       "      <th>1</th>\n",
       "      <td>1</td>\n",
       "      <td>dsl_data/audio/speakers/2BqVo8kVB2Skwgyb/0ee42...</td>\n",
       "      <td>2BqVo8kVB2Skwgyb</td>\n",
       "      <td>activate</td>\n",
       "      <td>music</td>\n",
       "      <td>advanced</td>\n",
       "      <td>English (United States)</td>\n",
       "      <td>English (United States)</td>\n",
       "      <td>female</td>\n",
       "      <td>22-40</td>\n",
       "      <td>[0, 0, 0, 0, 0, 0, 0, 0, 0, 0, 0, 0, 0, 0, 0, ...</td>\n",
       "      <td>1.393188</td>\n",
       "      <td>16000</td>\n",
       "      <td>[0.00039350823, 7.029419e-06, 9.472467e-06, 1....</td>\n",
       "    </tr>\n",
       "  </tbody>\n",
       "</table>\n",
       "</div>"
      ],
      "text/plain": [
       "   Id                                               path         speakerId  \\\n",
       "0   0  dsl_data/audio/speakers/2BqVo8kVB2Skwgyb/0a312...  2BqVo8kVB2Skwgyb   \n",
       "1   1  dsl_data/audio/speakers/2BqVo8kVB2Skwgyb/0ee42...  2BqVo8kVB2Skwgyb   \n",
       "\n",
       "            action object Self-reported fluency level   \\\n",
       "0  change language   none                     advanced   \n",
       "1         activate  music                     advanced   \n",
       "\n",
       "     First Language spoken Current language used for work/school  gender  \\\n",
       "0  English (United States)               English (United States)  female   \n",
       "1  English (United States)               English (United States)  female   \n",
       "\n",
       "  ageRange                                       audio_signal  audio_len  \\\n",
       "0    22-40  [0, 0, 0, 0, 0, 0, 0, 0, 0, 0, 0, 0, 0, 0, 0, ...   1.857625   \n",
       "1    22-40  [0, 0, 0, 0, 0, 0, 0, 0, 0, 0, 0, 0, 0, 0, 0, ...   1.393188   \n",
       "\n",
       "   sample_rate                                    audio_processed  \n",
       "0        16000  [-0.001121952, 0.00034271364, 0.00046548995, -...  \n",
       "1        16000  [0.00039350823, 7.029419e-06, 9.472467e-06, 1....  "
      ]
     },
     "execution_count": 4,
     "metadata": {},
     "output_type": "execute_result"
    }
   ],
   "source": [
    "joined_df.head(2)"
   ]
  },
  {
   "attachments": {},
   "cell_type": "markdown",
   "metadata": {},
   "source": [
    "Plot of audio length distribution"
   ]
  },
  {
   "cell_type": "code",
   "execution_count": 5,
   "metadata": {},
   "outputs": [
    {
     "data": {
      "image/png": "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",
      "text/plain": [
       "<Figure size 432x288 with 1 Axes>"
      ]
     },
     "metadata": {
      "needs_background": "light"
     },
     "output_type": "display_data"
    }
   ],
   "source": [
    "joined_df['audio_len'].hist(bins=100)\n",
    "plt.xlabel(\"Audio length [s]\")\n",
    "plt.ylabel(\"count\")\n",
    "plt.show()"
   ]
  },
  {
   "attachments": {},
   "cell_type": "markdown",
   "metadata": {},
   "source": [
    "Plot of difference between the audio with and without preprocessing"
   ]
  },
  {
   "cell_type": "code",
   "execution_count": 6,
   "metadata": {},
   "outputs": [
    {
     "data": {
      "image/png": "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",
      "text/plain": [
       "<Figure size 720x432 with 2 Axes>"
      ]
     },
     "metadata": {
      "needs_background": "light"
     },
     "output_type": "display_data"
    }
   ],
   "source": [
    "audio_val =1\n",
    "y1 = joined_df['audio_signal'][audio_val]\n",
    "sr1=sr2=22050\n",
    "y2 = joined_df['audio_processed'][audio_val]\n",
    "fig, ax = plt.subplots(2, 1, figsize=(10, 6))\n",
    "ax[0].plot(y1)\n",
    "ax[0].set_title(\"Audio without preprocessing\")\n",
    "ax[0].set_xlabel(\"Time [s]\")\n",
    "ax[0].set_ylabel(\"Amplitude\")\n",
    "ax[0].grid()\n",
    "\n",
    "\n",
    "ax[1].plot(y2)\n",
    "ax[1].set_title(\"Audio with preprocessing\")\n",
    "ax[1].set_xlabel(\"Time [s]\")\n",
    "ax[1].set_ylabel(\"Amplitude\")\n",
    "plt.tight_layout()\n",
    "ax[1].grid()\n",
    "\n",
    "plt.show()"
   ]
  },
  {
   "attachments": {},
   "cell_type": "markdown",
   "metadata": {},
   "source": [
    "MFCC extraction"
   ]
  },
  {
   "cell_type": "code",
   "execution_count": 7,
   "metadata": {},
   "outputs": [],
   "source": [
    "mfcc_eval = []\n",
    "for i, j in zip(joined_df['audio_processed'], joined_df['sample_rate']):\n",
    "    rate = 16000\n",
    "    audio = i\n",
    "    mfcc_feature = mfcc(audio,\n",
    "                            rate,\n",
    "                            winlen       = 0.025,\n",
    "                            winstep      = 0.01,\n",
    "                            numcep       = 26,\n",
    "                            nfilt        = 26,\n",
    "                            nfft         = 551,\n",
    "                            appendEnergy = True)\n",
    "    mfcc_eval.append(mfcc_feature.T)"
   ]
  },
  {
   "cell_type": "code",
   "execution_count": 7,
   "metadata": {},
   "outputs": [
    {
     "name": "stdout",
     "output_type": "stream",
     "text": [
      "162\n",
      "(26, 162)\n",
      "15\n"
     ]
    }
   ],
   "source": [
    "min_size = 50\n",
    "for i in mfcc_eval:\n",
    "    if i.shape[1]<min_size:\n",
    "        min_size= i.shape[1]\n",
    "print(min_size)"
   ]
  },
  {
   "attachments": {},
   "cell_type": "markdown",
   "metadata": {},
   "source": [
    "Matrix resizing"
   ]
  },
  {
   "cell_type": "code",
   "execution_count": 8,
   "metadata": {},
   "outputs": [],
   "source": [
    "new_mfcc=[]\n",
    "std = []\n",
    "chuncks=26  #to update\n",
    "for i in mfcc_eval:\n",
    "    new_mfcc.append(cv2.resize(i.astype(float), dsize=(chuncks, 26)))"
   ]
  },
  {
   "cell_type": "code",
   "execution_count": 9,
   "metadata": {},
   "outputs": [],
   "source": [
    "mfcc_def = []\n",
    "for i in new_mfcc:\n",
    "    mfcc_def.append(i.ravel())"
   ]
  },
  {
   "cell_type": "code",
   "execution_count": 10,
   "metadata": {},
   "outputs": [],
   "source": [
    "joined_df['mfcc'] = mfcc_def"
   ]
  },
  {
   "cell_type": "code",
   "execution_count": 11,
   "metadata": {},
   "outputs": [
    {
     "data": {
      "text/html": [
       "<div>\n",
       "<style scoped>\n",
       "    .dataframe tbody tr th:only-of-type {\n",
       "        vertical-align: middle;\n",
       "    }\n",
       "\n",
       "    .dataframe tbody tr th {\n",
       "        vertical-align: top;\n",
       "    }\n",
       "\n",
       "    .dataframe thead th {\n",
       "        text-align: right;\n",
       "    }\n",
       "</style>\n",
       "<table border=\"1\" class=\"dataframe\">\n",
       "  <thead>\n",
       "    <tr style=\"text-align: right;\">\n",
       "      <th></th>\n",
       "      <th>Id</th>\n",
       "      <th>path</th>\n",
       "      <th>speakerId</th>\n",
       "      <th>action</th>\n",
       "      <th>object</th>\n",
       "      <th>Self-reported fluency level</th>\n",
       "      <th>First Language spoken</th>\n",
       "      <th>Current language used for work/school</th>\n",
       "      <th>gender</th>\n",
       "      <th>ageRange</th>\n",
       "      <th>audio_signal</th>\n",
       "      <th>audio_len</th>\n",
       "      <th>sample_rate</th>\n",
       "      <th>audio_processed</th>\n",
       "      <th>mfcc</th>\n",
       "    </tr>\n",
       "  </thead>\n",
       "  <tbody>\n",
       "    <tr>\n",
       "      <th>0</th>\n",
       "      <td>0</td>\n",
       "      <td>dsl_data/audio/speakers/2BqVo8kVB2Skwgyb/0a312...</td>\n",
       "      <td>2BqVo8kVB2Skwgyb</td>\n",
       "      <td>change language</td>\n",
       "      <td>none</td>\n",
       "      <td>advanced</td>\n",
       "      <td>English (United States)</td>\n",
       "      <td>English (United States)</td>\n",
       "      <td>female</td>\n",
       "      <td>22-40</td>\n",
       "      <td>[0, 0, 0, 0, 0, 0, 0, 0, 0, 0, 0, 0, 0, 0, 0, ...</td>\n",
       "      <td>1.857625</td>\n",
       "      <td>16000</td>\n",
       "      <td>[-0.001121952, 0.00034271364, 0.00046548995, -...</td>\n",
       "      <td>[-3.4527890869736177, -6.400791455837821, -3.3...</td>\n",
       "    </tr>\n",
       "  </tbody>\n",
       "</table>\n",
       "</div>"
      ],
      "text/plain": [
       "   Id                                               path         speakerId  \\\n",
       "0   0  dsl_data/audio/speakers/2BqVo8kVB2Skwgyb/0a312...  2BqVo8kVB2Skwgyb   \n",
       "\n",
       "            action object Self-reported fluency level   \\\n",
       "0  change language   none                     advanced   \n",
       "\n",
       "     First Language spoken Current language used for work/school  gender  \\\n",
       "0  English (United States)               English (United States)  female   \n",
       "\n",
       "  ageRange                                       audio_signal  audio_len  \\\n",
       "0    22-40  [0, 0, 0, 0, 0, 0, 0, 0, 0, 0, 0, 0, 0, 0, 0, ...   1.857625   \n",
       "\n",
       "   sample_rate                                    audio_processed  \\\n",
       "0        16000  [-0.001121952, 0.00034271364, 0.00046548995, -...   \n",
       "\n",
       "                                                mfcc  \n",
       "0  [-3.4527890869736177, -6.400791455837821, -3.3...  "
      ]
     },
     "execution_count": 11,
     "metadata": {},
     "output_type": "execute_result"
    }
   ],
   "source": [
    "joined_df.head(1)"
   ]
  },
  {
   "cell_type": "code",
   "execution_count": 12,
   "metadata": {},
   "outputs": [
    {
     "data": {
      "text/html": [
       "<div>\n",
       "<style scoped>\n",
       "    .dataframe tbody tr th:only-of-type {\n",
       "        vertical-align: middle;\n",
       "    }\n",
       "\n",
       "    .dataframe tbody tr th {\n",
       "        vertical-align: top;\n",
       "    }\n",
       "\n",
       "    .dataframe thead th {\n",
       "        text-align: right;\n",
       "    }\n",
       "</style>\n",
       "<table border=\"1\" class=\"dataframe\">\n",
       "  <thead>\n",
       "    <tr style=\"text-align: right;\">\n",
       "      <th></th>\n",
       "      <th>action</th>\n",
       "      <th>object</th>\n",
       "      <th>gender</th>\n",
       "      <th>ageRange</th>\n",
       "      <th>mfcc</th>\n",
       "    </tr>\n",
       "  </thead>\n",
       "  <tbody>\n",
       "    <tr>\n",
       "      <th>0</th>\n",
       "      <td>change language</td>\n",
       "      <td>none</td>\n",
       "      <td>female</td>\n",
       "      <td>22-40</td>\n",
       "      <td>[-3.4527890869736177, -6.400791455837821, -3.3...</td>\n",
       "    </tr>\n",
       "  </tbody>\n",
       "</table>\n",
       "</div>"
      ],
      "text/plain": [
       "            action object  gender ageRange  \\\n",
       "0  change language   none  female    22-40   \n",
       "\n",
       "                                                mfcc  \n",
       "0  [-3.4527890869736177, -6.400791455837821, -3.3...  "
      ]
     },
     "execution_count": 12,
     "metadata": {},
     "output_type": "execute_result"
    }
   ],
   "source": [
    "dropped_df = joined_df.drop(columns=['Id', 'audio_len', 'audio_processed', 'audio_signal', 'sample_rate','path', 'speakerId','Self-reported fluency level ', 'First Language spoken', 'Current language used for work/school'], axis=1)\n",
    "dropped_df.head(1)"
   ]
  },
  {
   "cell_type": "code",
   "execution_count": 13,
   "metadata": {},
   "outputs": [
    {
     "data": {
      "text/html": [
       "<div>\n",
       "<style scoped>\n",
       "    .dataframe tbody tr th:only-of-type {\n",
       "        vertical-align: middle;\n",
       "    }\n",
       "\n",
       "    .dataframe tbody tr th {\n",
       "        vertical-align: top;\n",
       "    }\n",
       "\n",
       "    .dataframe thead th {\n",
       "        text-align: right;\n",
       "    }\n",
       "</style>\n",
       "<table border=\"1\" class=\"dataframe\">\n",
       "  <thead>\n",
       "    <tr style=\"text-align: right;\">\n",
       "      <th></th>\n",
       "      <th>action</th>\n",
       "      <th>object</th>\n",
       "      <th>mfcc</th>\n",
       "      <th>gender_female</th>\n",
       "      <th>gender_male</th>\n",
       "      <th>ageRange_22-40</th>\n",
       "      <th>ageRange_41-65</th>\n",
       "      <th>ageRange_65+</th>\n",
       "    </tr>\n",
       "  </thead>\n",
       "  <tbody>\n",
       "    <tr>\n",
       "      <th>0</th>\n",
       "      <td>change language</td>\n",
       "      <td>none</td>\n",
       "      <td>[-3.4527890869736177, -6.400791455837821, -3.3...</td>\n",
       "      <td>1</td>\n",
       "      <td>0</td>\n",
       "      <td>1</td>\n",
       "      <td>0</td>\n",
       "      <td>0</td>\n",
       "    </tr>\n",
       "  </tbody>\n",
       "</table>\n",
       "</div>"
      ],
      "text/plain": [
       "            action object                                               mfcc  \\\n",
       "0  change language   none  [-3.4527890869736177, -6.400791455837821, -3.3...   \n",
       "\n",
       "   gender_female  gender_male  ageRange_22-40  ageRange_41-65  ageRange_65+  \n",
       "0              1            0               1               0             0  "
      ]
     },
     "execution_count": 13,
     "metadata": {},
     "output_type": "execute_result"
    }
   ],
   "source": [
    "joined_df_dummies = pd.get_dummies(dropped_df, columns=['gender', 'ageRange'])\n",
    "joined_df_dummies.head(1)"
   ]
  },
  {
   "cell_type": "code",
   "execution_count": 14,
   "metadata": {},
   "outputs": [
    {
     "data": {
      "text/html": [
       "<div>\n",
       "<style scoped>\n",
       "    .dataframe tbody tr th:only-of-type {\n",
       "        vertical-align: middle;\n",
       "    }\n",
       "\n",
       "    .dataframe tbody tr th {\n",
       "        vertical-align: top;\n",
       "    }\n",
       "\n",
       "    .dataframe thead th {\n",
       "        text-align: right;\n",
       "    }\n",
       "</style>\n",
       "<table border=\"1\" class=\"dataframe\">\n",
       "  <thead>\n",
       "    <tr style=\"text-align: right;\">\n",
       "      <th></th>\n",
       "      <th>action</th>\n",
       "      <th>object</th>\n",
       "      <th>mfcc</th>\n",
       "      <th>gender_female</th>\n",
       "      <th>gender_male</th>\n",
       "      <th>ageRange_22-40</th>\n",
       "      <th>ageRange_41-65</th>\n",
       "    </tr>\n",
       "  </thead>\n",
       "  <tbody>\n",
       "    <tr>\n",
       "      <th>0</th>\n",
       "      <td>change language</td>\n",
       "      <td>none</td>\n",
       "      <td>[-3.4527890869736177, -6.400791455837821, -3.3...</td>\n",
       "      <td>1</td>\n",
       "      <td>0</td>\n",
       "      <td>1</td>\n",
       "      <td>0</td>\n",
       "    </tr>\n",
       "  </tbody>\n",
       "</table>\n",
       "</div>"
      ],
      "text/plain": [
       "            action object                                               mfcc  \\\n",
       "0  change language   none  [-3.4527890869736177, -6.400791455837821, -3.3...   \n",
       "\n",
       "   gender_female  gender_male  ageRange_22-40  ageRange_41-65  \n",
       "0              1            0               1               0  "
      ]
     },
     "execution_count": 14,
     "metadata": {},
     "output_type": "execute_result"
    }
   ],
   "source": [
    "joined_df_dummies2 = joined_df_dummies.drop(columns=['ageRange_65+'], axis=1)\n",
    "joined_df_dummies2.head(1)"
   ]
  },
  {
   "cell_type": "code",
   "execution_count": 15,
   "metadata": {},
   "outputs": [
    {
     "data": {
      "text/html": [
       "<div>\n",
       "<style scoped>\n",
       "    .dataframe tbody tr th:only-of-type {\n",
       "        vertical-align: middle;\n",
       "    }\n",
       "\n",
       "    .dataframe tbody tr th {\n",
       "        vertical-align: top;\n",
       "    }\n",
       "\n",
       "    .dataframe thead th {\n",
       "        text-align: right;\n",
       "    }\n",
       "</style>\n",
       "<table border=\"1\" class=\"dataframe\">\n",
       "  <thead>\n",
       "    <tr style=\"text-align: right;\">\n",
       "      <th></th>\n",
       "      <th>mfcc</th>\n",
       "      <th>gender_female</th>\n",
       "      <th>gender_male</th>\n",
       "      <th>ageRange_22-40</th>\n",
       "      <th>ageRange_41-65</th>\n",
       "      <th>action_object</th>\n",
       "    </tr>\n",
       "  </thead>\n",
       "  <tbody>\n",
       "    <tr>\n",
       "      <th>0</th>\n",
       "      <td>[-3.4527890869736177, -6.400791455837821, -3.3...</td>\n",
       "      <td>1</td>\n",
       "      <td>0</td>\n",
       "      <td>1</td>\n",
       "      <td>0</td>\n",
       "      <td>change languagenone</td>\n",
       "    </tr>\n",
       "  </tbody>\n",
       "</table>\n",
       "</div>"
      ],
      "text/plain": [
       "                                                mfcc  gender_female  \\\n",
       "0  [-3.4527890869736177, -6.400791455837821, -3.3...              1   \n",
       "\n",
       "   gender_male  ageRange_22-40  ageRange_41-65        action_object  \n",
       "0            0               1               0  change languagenone  "
      ]
     },
     "execution_count": 15,
     "metadata": {},
     "output_type": "execute_result"
    }
   ],
   "source": [
    "act = joined_df_dummies2['action']\n",
    "obj = joined_df_dummies2['object']\n",
    "joined_df_dummies2['action_object']= act+obj\n",
    "df_tot = joined_df_dummies2.drop(columns=['action', 'object'], axis=1)\n",
    "df_tot.head(1)"
   ]
  },
  {
   "cell_type": "code",
   "execution_count": 16,
   "metadata": {},
   "outputs": [
    {
     "data": {
      "text/html": [
       "<div>\n",
       "<style scoped>\n",
       "    .dataframe tbody tr th:only-of-type {\n",
       "        vertical-align: middle;\n",
       "    }\n",
       "\n",
       "    .dataframe tbody tr th {\n",
       "        vertical-align: top;\n",
       "    }\n",
       "\n",
       "    .dataframe thead th {\n",
       "        text-align: right;\n",
       "    }\n",
       "</style>\n",
       "<table border=\"1\" class=\"dataframe\">\n",
       "  <thead>\n",
       "    <tr style=\"text-align: right;\">\n",
       "      <th></th>\n",
       "      <th>index</th>\n",
       "      <th>mfcc</th>\n",
       "      <th>gender_female</th>\n",
       "      <th>gender_male</th>\n",
       "      <th>ageRange_22-40</th>\n",
       "      <th>ageRange_41-65</th>\n",
       "      <th>action_object</th>\n",
       "      <th>mfcc_1</th>\n",
       "      <th>mfcc_2</th>\n",
       "      <th>mfcc_3</th>\n",
       "      <th>...</th>\n",
       "      <th>mfcc_667</th>\n",
       "      <th>mfcc_668</th>\n",
       "      <th>mfcc_669</th>\n",
       "      <th>mfcc_670</th>\n",
       "      <th>mfcc_671</th>\n",
       "      <th>mfcc_672</th>\n",
       "      <th>mfcc_673</th>\n",
       "      <th>mfcc_674</th>\n",
       "      <th>mfcc_675</th>\n",
       "      <th>mfcc_676</th>\n",
       "    </tr>\n",
       "  </thead>\n",
       "  <tbody>\n",
       "    <tr>\n",
       "      <th>0</th>\n",
       "      <td>0</td>\n",
       "      <td>[-3.4527890869736177, -6.400791455837821, -3.3...</td>\n",
       "      <td>1</td>\n",
       "      <td>0</td>\n",
       "      <td>1</td>\n",
       "      <td>0</td>\n",
       "      <td>change languagenone</td>\n",
       "      <td>-3.452789</td>\n",
       "      <td>-6.400791</td>\n",
       "      <td>-3.373344</td>\n",
       "      <td>...</td>\n",
       "      <td>2.864081</td>\n",
       "      <td>1.131916</td>\n",
       "      <td>-2.904485</td>\n",
       "      <td>-0.594692</td>\n",
       "      <td>3.621175</td>\n",
       "      <td>2.175877</td>\n",
       "      <td>0.008200</td>\n",
       "      <td>-1.010740</td>\n",
       "      <td>-0.796600</td>\n",
       "      <td>-1.000289</td>\n",
       "    </tr>\n",
       "    <tr>\n",
       "      <th>1</th>\n",
       "      <td>1</td>\n",
       "      <td>[-10.964495867870225, -8.106750888033625, -7.6...</td>\n",
       "      <td>1</td>\n",
       "      <td>0</td>\n",
       "      <td>1</td>\n",
       "      <td>0</td>\n",
       "      <td>activatemusic</td>\n",
       "      <td>-10.964496</td>\n",
       "      <td>-8.106751</td>\n",
       "      <td>-7.667136</td>\n",
       "      <td>...</td>\n",
       "      <td>-1.535055</td>\n",
       "      <td>-1.784162</td>\n",
       "      <td>0.968844</td>\n",
       "      <td>1.542940</td>\n",
       "      <td>3.523517</td>\n",
       "      <td>3.938121</td>\n",
       "      <td>4.119172</td>\n",
       "      <td>3.352002</td>\n",
       "      <td>0.949029</td>\n",
       "      <td>-1.070060</td>\n",
       "    </tr>\n",
       "  </tbody>\n",
       "</table>\n",
       "<p>2 rows × 683 columns</p>\n",
       "</div>"
      ],
      "text/plain": [
       "   index                                               mfcc  gender_female  \\\n",
       "0      0  [-3.4527890869736177, -6.400791455837821, -3.3...              1   \n",
       "1      1  [-10.964495867870225, -8.106750888033625, -7.6...              1   \n",
       "\n",
       "   gender_male  ageRange_22-40  ageRange_41-65        action_object  \\\n",
       "0            0               1               0  change languagenone   \n",
       "1            0               1               0        activatemusic   \n",
       "\n",
       "      mfcc_1    mfcc_2    mfcc_3  ...  mfcc_667  mfcc_668  mfcc_669  mfcc_670  \\\n",
       "0  -3.452789 -6.400791 -3.373344  ...  2.864081  1.131916 -2.904485 -0.594692   \n",
       "1 -10.964496 -8.106751 -7.667136  ... -1.535055 -1.784162  0.968844  1.542940   \n",
       "\n",
       "   mfcc_671  mfcc_672  mfcc_673  mfcc_674  mfcc_675  mfcc_676  \n",
       "0  3.621175  2.175877  0.008200 -1.010740 -0.796600 -1.000289  \n",
       "1  3.523517  3.938121  4.119172  3.352002  0.949029 -1.070060  \n",
       "\n",
       "[2 rows x 683 columns]"
      ]
     },
     "execution_count": 16,
     "metadata": {},
     "output_type": "execute_result"
    }
   ],
   "source": [
    "df_4 = df_tot.copy()\n",
    "df_new = pd.DataFrame(mfcc_def)\n",
    "df_new.columns = [f\"mfcc_{i+1}\" for i in range(df_new.shape[1])]\n",
    "df_new.head(1)\n",
    "df_4 = df_4.reset_index()\n",
    "concat_df = pd.concat([df_4, df_new], axis=1)\n",
    "concat_df.head(2)"
   ]
  },
  {
   "cell_type": "code",
   "execution_count": 17,
   "metadata": {},
   "outputs": [
    {
     "data": {
      "text/html": [
       "<div>\n",
       "<style scoped>\n",
       "    .dataframe tbody tr th:only-of-type {\n",
       "        vertical-align: middle;\n",
       "    }\n",
       "\n",
       "    .dataframe tbody tr th {\n",
       "        vertical-align: top;\n",
       "    }\n",
       "\n",
       "    .dataframe thead th {\n",
       "        text-align: right;\n",
       "    }\n",
       "</style>\n",
       "<table border=\"1\" class=\"dataframe\">\n",
       "  <thead>\n",
       "    <tr style=\"text-align: right;\">\n",
       "      <th></th>\n",
       "      <th>gender_female</th>\n",
       "      <th>gender_male</th>\n",
       "      <th>ageRange_22-40</th>\n",
       "      <th>ageRange_41-65</th>\n",
       "      <th>action_object</th>\n",
       "      <th>mfcc_1</th>\n",
       "      <th>mfcc_2</th>\n",
       "      <th>mfcc_3</th>\n",
       "      <th>mfcc_4</th>\n",
       "      <th>mfcc_5</th>\n",
       "      <th>...</th>\n",
       "      <th>mfcc_667</th>\n",
       "      <th>mfcc_668</th>\n",
       "      <th>mfcc_669</th>\n",
       "      <th>mfcc_670</th>\n",
       "      <th>mfcc_671</th>\n",
       "      <th>mfcc_672</th>\n",
       "      <th>mfcc_673</th>\n",
       "      <th>mfcc_674</th>\n",
       "      <th>mfcc_675</th>\n",
       "      <th>mfcc_676</th>\n",
       "    </tr>\n",
       "  </thead>\n",
       "  <tbody>\n",
       "    <tr>\n",
       "      <th>0</th>\n",
       "      <td>1</td>\n",
       "      <td>0</td>\n",
       "      <td>1</td>\n",
       "      <td>0</td>\n",
       "      <td>change languagenone</td>\n",
       "      <td>-3.452789</td>\n",
       "      <td>-6.400791</td>\n",
       "      <td>-3.373344</td>\n",
       "      <td>-3.129576</td>\n",
       "      <td>-4.365764</td>\n",
       "      <td>...</td>\n",
       "      <td>2.864081</td>\n",
       "      <td>1.131916</td>\n",
       "      <td>-2.904485</td>\n",
       "      <td>-0.594692</td>\n",
       "      <td>3.621175</td>\n",
       "      <td>2.175877</td>\n",
       "      <td>0.008200</td>\n",
       "      <td>-1.010740</td>\n",
       "      <td>-0.796600</td>\n",
       "      <td>-1.000289</td>\n",
       "    </tr>\n",
       "    <tr>\n",
       "      <th>1</th>\n",
       "      <td>1</td>\n",
       "      <td>0</td>\n",
       "      <td>1</td>\n",
       "      <td>0</td>\n",
       "      <td>activatemusic</td>\n",
       "      <td>-10.964496</td>\n",
       "      <td>-8.106751</td>\n",
       "      <td>-7.667136</td>\n",
       "      <td>-7.349335</td>\n",
       "      <td>-8.038498</td>\n",
       "      <td>...</td>\n",
       "      <td>-1.535055</td>\n",
       "      <td>-1.784162</td>\n",
       "      <td>0.968844</td>\n",
       "      <td>1.542940</td>\n",
       "      <td>3.523517</td>\n",
       "      <td>3.938121</td>\n",
       "      <td>4.119172</td>\n",
       "      <td>3.352002</td>\n",
       "      <td>0.949029</td>\n",
       "      <td>-1.070060</td>\n",
       "    </tr>\n",
       "  </tbody>\n",
       "</table>\n",
       "<p>2 rows × 681 columns</p>\n",
       "</div>"
      ],
      "text/plain": [
       "   gender_female  gender_male  ageRange_22-40  ageRange_41-65  \\\n",
       "0              1            0               1               0   \n",
       "1              1            0               1               0   \n",
       "\n",
       "         action_object     mfcc_1    mfcc_2    mfcc_3    mfcc_4    mfcc_5  \\\n",
       "0  change languagenone  -3.452789 -6.400791 -3.373344 -3.129576 -4.365764   \n",
       "1        activatemusic -10.964496 -8.106751 -7.667136 -7.349335 -8.038498   \n",
       "\n",
       "   ...  mfcc_667  mfcc_668  mfcc_669  mfcc_670  mfcc_671  mfcc_672  mfcc_673  \\\n",
       "0  ...  2.864081  1.131916 -2.904485 -0.594692  3.621175  2.175877  0.008200   \n",
       "1  ... -1.535055 -1.784162  0.968844  1.542940  3.523517  3.938121  4.119172   \n",
       "\n",
       "   mfcc_674  mfcc_675  mfcc_676  \n",
       "0 -1.010740 -0.796600 -1.000289  \n",
       "1  3.352002  0.949029 -1.070060  \n",
       "\n",
       "[2 rows x 681 columns]"
      ]
     },
     "execution_count": 17,
     "metadata": {},
     "output_type": "execute_result"
    }
   ],
   "source": [
    "concat_df3 = concat_df.drop(columns=['mfcc','index'], axis=1)\n",
    "concat_df3.head(2)"
   ]
  },
  {
   "attachments": {},
   "cell_type": "markdown",
   "metadata": {},
   "source": [
    "Dataframe splitting after preprocessing before the training phase"
   ]
  },
  {
   "cell_type": "code",
   "execution_count": 18,
   "metadata": {},
   "outputs": [
    {
     "name": "stdout",
     "output_type": "stream",
     "text": [
      "(9854, 681)\n",
      "(1455, 681)\n"
     ]
    }
   ],
   "source": [
    "train_df = concat_df3.iloc[:len(df), :]\n",
    "eval_df = concat_df3.iloc[len(df):, :]\n",
    "\n",
    "print(train_df.shape)\n",
    "print(eval_df.shape)\n",
    "eval_df = eval_df.drop(columns=['action_object'], axis=1)\n",
    "X_eval = eval_df.values"
   ]
  },
  {
   "attachments": {},
   "cell_type": "markdown",
   "metadata": {},
   "source": [
    "Distribution of action/object on the training dataframe"
   ]
  },
  {
   "cell_type": "code",
   "execution_count": 63,
   "metadata": {},
   "outputs": [
    {
     "data": {
      "image/png": "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",
      "text/plain": [
       "<Figure size 720x360 with 1 Axes>"
      ]
     },
     "metadata": {
      "needs_background": "light"
     },
     "output_type": "display_data"
    }
   ],
   "source": [
    "%matplotlib inline\n",
    "import matplotlib.pyplot as plt\n",
    "fig, ax = plt.subplots(figsize=(10,5))\n",
    "train_df['action_object'].value_counts().plot(kind='barh')\n",
    "for i, v in enumerate(train_df['action_object'].value_counts().values):\n",
    "    plt.text(v + 3, i, str(v))\n",
    "plt.grid(alpha=0.5)\n",
    "plt.savefig(\"actionobj2.png\", dpi=150, bbox_inches='tight')\n",
    "#plt.savefig(\"actionobj.png\", dpi=150, bbox_inches='tight')\n",
    "plt.show()"
   ]
  },
  {
   "cell_type": "code",
   "execution_count": 20,
   "metadata": {},
   "outputs": [],
   "source": [
    "y = pd.DataFrame(train_df['action_object']).values\n",
    "df_expanded = train_df.drop(columns=['action_object'], axis=1)\n",
    "X = pd.DataFrame(df_expanded).values\n",
    "X_train, X_test, y_train, y_test = train_test_split(X, y, test_size=0.2, shuffle=True)"
   ]
  },
  {
   "attachments": {},
   "cell_type": "markdown",
   "metadata": {},
   "source": [
    "training with SVM"
   ]
  },
  {
   "cell_type": "code",
   "execution_count": 21,
   "metadata": {},
   "outputs": [
    {
     "name": "stdout",
     "output_type": "stream",
     "text": [
      "0.8305428716387621\n"
     ]
    }
   ],
   "source": [
    "svc = SVC(C=5)\n",
    "svc.fit(X_train, y_train.ravel())\n",
    "print(accuracy_score(y_test, svc.predict(X_test)))\n",
    "#print(svc.predict(X_test))"
   ]
  },
  {
   "attachments": {},
   "cell_type": "markdown",
   "metadata": {},
   "source": [
    "Confusion matrix"
   ]
  },
  {
   "cell_type": "code",
   "execution_count": 22,
   "metadata": {},
   "outputs": [
    {
     "data": {
      "text/plain": [
       "' from sklearn.metrics import confusion_matrix\\nimport seaborn as sns\\nimport matplotlib.pyplot as plt\\n\\nunique_values, indices = np.unique(y_train, return_index=True)\\n\\n# get one value of each unique type\\none_value_of_each_type = y_train[indices]\\nunique_values = np.unique(one_value_of_each_type)\\n\\n# Create the confusion matrix\\ny_true = y_test\\ny_pred = svc.predict(X_test)\\ncm = confusion_matrix(y_true, y_pred, labels = unique_values)\\n\\n# Plot the confusion matrix\\nsns.heatmap(cm, annot=True, fmt=\\'d\\', cmap=\\'Blues\\', xticklabels=unique_values, yticklabels=unique_values)\\nplt.xlabel(\\'Predicted\\')\\nplt.ylabel(\\'True\\')\\nplt.title(\\'Confusion Matrix\\')\\nplt.savefig(\"figure.png\", dpi=150, bbox_inches=\\'tight\\') '"
      ]
     },
     "execution_count": 22,
     "metadata": {},
     "output_type": "execute_result"
    }
   ],
   "source": [
    "from sklearn.metrics import confusion_matrix\n",
    "import seaborn as sns\n",
    "import matplotlib.pyplot as plt\n",
    "\n",
    "unique_values, indices = np.unique(y_train, return_index=True)\n",
    "one_value_of_each_type = y_train[indices]\n",
    "unique_values = np.unique(one_value_of_each_type)\n",
    "y_true = y_test\n",
    "y_pred = svc.predict(X_test)\n",
    "cm = confusion_matrix(y_true, y_pred, labels = unique_values)\n",
    "\n",
    "# Plot the confusion matrix\n",
    "sns.heatmap(cm, annot=True, fmt='d', cmap='Blues', xticklabels=unique_values, yticklabels=unique_values)\n",
    "plt.xlabel('Predicted')\n",
    "plt.ylabel('True')\n",
    "plt.title('Confusion Matrix')\n",
    "#plt.savefig(\"figure.png\", dpi=150, bbox_inches='tight')\n",
    "plt.show()"
   ]
  },
  {
   "cell_type": "code",
   "execution_count": 24,
   "metadata": {},
   "outputs": [],
   "source": [
    "svc.fit(X, y.ravel())\n",
    "y_pred=svc.predict(X_eval)"
   ]
  },
  {
   "attachments": {},
   "cell_type": "markdown",
   "metadata": {},
   "source": [
    "CSV filling"
   ]
  },
  {
   "cell_type": "code",
   "execution_count": 28,
   "metadata": {},
   "outputs": [],
   "source": [
    "pred_final=[]\n",
    "\n",
    "import csv\n",
    "\n",
    "with open('sample_eval2.csv', 'w', newline='') as file:\n",
    "    c=0\n",
    "    writer = csv.writer(file)\n",
    "    writer.writerow([\"Id\",\"Predicted\"])\n",
    "    for i in y_pred:\n",
    "        writer = csv.writer(file)\n",
    "        writer.writerow([c,i])\n",
    "        c+=1"
   ]
  }
 ],
 "metadata": {
  "kernelspec": {
   "display_name": "Python 3",
   "language": "python",
   "name": "python3"
  },
  "language_info": {
   "codemirror_mode": {
    "name": "ipython",
    "version": 3
   },
   "file_extension": ".py",
   "mimetype": "text/x-python",
   "name": "python",
   "nbconvert_exporter": "python",
   "pygments_lexer": "ipython3",
   "version": "3.8.6 (tags/v3.8.6:db45529, Sep 23 2020, 15:52:53) [MSC v.1927 64 bit (AMD64)]"
  },
  "orig_nbformat": 4,
  "vscode": {
   "interpreter": {
    "hash": "9650cb4e16cdd4a8e8e2d128bf38d875813998db22a3c986335f89e0cb4d7bb2"
   }
  }
 },
 "nbformat": 4,
 "nbformat_minor": 2
}
